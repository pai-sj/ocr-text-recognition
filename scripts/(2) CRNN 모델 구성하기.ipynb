{
 "cells": [
  {
   "cell_type": "code",
   "execution_count": 4,
   "metadata": {},
   "outputs": [],
   "source": [
    "%matplotlib inline\n",
    "import numpy as np\n",
    "import cv2\n",
    "    \n",
    "import matplotlib.pyplot as plt\n",
    "\n",
    "import sys\n",
    "sys.path.append(\"../\")\n",
    "\n",
    "import tensorflow as tf \n",
    "assert int(tf.__version__[:1]) < 2.0, \"해당 코드는 1.x에서만 동작합니다.\"\n",
    "tf.logging.set_verbosity(tf.logging.ERROR)"
   ]
  },
  {
   "cell_type": "markdown",
   "metadata": {},
   "source": [
    "# \\[ MNIST 데이터셋 \\]\n",
    "\n",
    "MNIST 데이터셋을 통해 정상적으로 동작하는지를 확인해보도록 함"
   ]
  },
  {
   "cell_type": "markdown",
   "metadata": {},
   "source": [
    "## 1. 데이터 가져오기 "
   ]
  },
  {
   "cell_type": "code",
   "execution_count": 5,
   "metadata": {},
   "outputs": [],
   "source": [
    "from utils.dataset import SerializationDataset\n",
    "\n",
    "train_set = SerializationDataset('mnist','train',\n",
    "                                 digit=5,pad_range=(3,10))\n",
    "validation_set = SerializationDataset('mnist','validation',\n",
    "                                      digit=5,pad_range=(3,10))\n",
    "test_set = SerializationDataset('mnist','test',\n",
    "                                digit=(3,8),pad_range=(3,10))"
   ]
  },
  {
   "cell_type": "markdown",
   "metadata": {},
   "source": [
    "## 2. 데이터 Generator 가져오기"
   ]
  },
  {
   "cell_type": "code",
   "execution_count": 6,
   "metadata": {},
   "outputs": [],
   "source": [
    "from models.generator import DataGenerator\n",
    "\n",
    "train_gen = DataGenerator(train_set, \n",
    "                          batch_size=32)\n",
    "valid_gen = DataGenerator(validation_set, \n",
    "                          batch_size=100, \n",
    "                          shuffle=False)\n",
    "test_gen = DataGenerator(test_set, \n",
    "                         batch_size=500, \n",
    "                         shuffle=False)"
   ]
  },
  {
   "cell_type": "code",
   "execution_count": 7,
   "metadata": {},
   "outputs": [],
   "source": [
    "images, _ = train_gen[0]"
   ]
  },
  {
   "cell_type": "code",
   "execution_count": 8,
   "metadata": {},
   "outputs": [
    {
     "data": {
      "text/plain": [
       "<matplotlib.image.AxesImage at 0x1c4574ed68>"
      ]
     },
     "execution_count": 8,
     "metadata": {},
     "output_type": "execute_result"
    },
    {
     "data": {
      "image/png": "[encoded data removed]",
      "text/plain": [
       "<Figure size 432x288 with 1 Axes>"
      ]
     },
     "metadata": {},
     "output_type": "display_data"
    }
   ],
   "source": [
    "plt.imshow(images[3,:,:,0])"
   ]
  },
  {
   "cell_type": "markdown",
   "metadata": {},
   "source": [
    "# \\[ CRNN 모델 구성하기 \\]\n",
    "----\n",
    "![Imgur](https://i.imgur.com/0RiRQRa.png)\n"
   ]
  },
  {
   "cell_type": "markdown",
   "metadata": {},
   "source": [
    "## 1. Convolution Feature Extractor 부분 구성하기\n",
    "---\n",
    "\n",
    "| Layer Name | #maps | Filter | Stride | Padding | activation |\n",
    "| ----       | ---   | -----  | ------ | -----   | ---- |\n",
    "| conv1      | 64    | (3,3)  | (1,1)  | same    | relu |\n",
    "| maxpool1   | -     | (2,2)  | (2,2)  | same    | -    |\n",
    "| conv2      | 128   | (3,3)  | (1,1)  | same    | relu |\n",
    "| maxpool2   | -     | (2,2)  | (2,2)  | same    | -    |\n",
    "| conv3      | 256   | (3,3)  | (1,1)  | same    | relu |\n",
    "| conv4      | 256   | (3,3)  | (1,1)  | same    | relu |\n",
    "| maxpool3   | -     | (2,1)  | (2,1)  | same    | -    |\n",
    "| batchnorm1 | -     | -      | -      | -       | -    |\n",
    "| conv5      | 512   | (3,3)  | (1,1)  | same    | relu |\n",
    "| batchnorm2 | -     | -      | -      | -       | -    |\n",
    "| conv6      | 512   | (3,3)  | (1,1)  | same    | relu |\n",
    "| maxpool4   | -     | (2,1)  | (2,1)  | same    | -    |\n",
    "| conv7      | 512   | (3,3)  | (1,1)  | valid   | relu |\n"
   ]
  },
  {
   "cell_type": "code",
   "execution_count": 18,
   "metadata": {},
   "outputs": [],
   "source": [
    "import tensorflow.keras.backend as K\n",
    "from tensorflow.keras.layers import Conv2D, MaxPooling2D\n",
    "from tensorflow.keras.layers import BatchNormalization\n",
    "from tensorflow.keras.layers import Input\n",
    "from tensorflow.keras.models import Model\n",
    "from tensorflow.keras.utils import plot_model"
   ]
  },
  {
   "cell_type": "code",
   "execution_count": 31,
   "metadata": {},
   "outputs": [],
   "source": [
    "K.clear_session()\n",
    "\n",
    "inputs = Input(shape=(28,None,1)) # Shape : (batch, height, width, channel)\n",
    "conv1 = Conv2D(64, (3, 3), activation='relu',\n",
    "               padding='same',name='conv1')(inputs)\n",
    "maxpool1 = MaxPooling2D((2, 2), (2, 2),\n",
    "                        padding='same',name='maxpool1')(conv1)\n",
    "conv2 = Conv2D(128, (3, 3), activation='relu',\n",
    "               padding='same',name='conv2')(maxpool1)\n",
    "maxpool2 = MaxPooling2D((2, 2), (2, 2),\n",
    "                        padding='same',name='maxpool2')(conv2)\n",
    "conv3 = Conv2D(256, (3, 3), activation='relu',\n",
    "               padding='same',name='conv3')(maxpool2)\n",
    "conv4 = Conv2D(256, (3, 3), activation='relu',\n",
    "               padding='same',name='conv4')(conv3)\n",
    "maxpool3 = MaxPooling2D((2, 1), (2, 1),\n",
    "                        padding='same',name='maxpool3')(conv4)\n",
    "batchnorm1 = BatchNormalization(name='batchnorm1')(maxpool3)\n",
    "conv5 = Conv2D(512, (3, 3), activation='relu', \n",
    "               padding='same',name='conv5')(batchnorm1)\n",
    "batchnorm2 = BatchNormalization(name='batchnorm2')(conv5)\n",
    "conv6 = Conv2D(512, (3, 3), activation='relu',\n",
    "               padding='same', name='conv6')(batchnorm2)\n",
    "maxpool4 = MaxPooling2D((2, 1), (2, 1),\n",
    "                        padding='same',name='maxpool4')(conv6)\n",
    "conv7 = Conv2D(512, (2, 2), activation='relu',\n",
    "               padding='valid',name='conv7')(maxpool4)\n"
   ]
  },
  {
   "cell_type": "markdown",
   "metadata": {},
   "source": [
    "VGG Style Layer 구성방식을 택했습니다. 기존과 좀 다른 구성은 Maxpooling layer에 있는데, 이는 마지막 두개의 Maxpooling은 Height 방향으로만 Pooling을 적용했습니다. Pooling을 할수록 이후 가능한 출력의 최대 길이가 줄어들게 됩니다. 가능한 출력의 최대 길이보다 실제 단어가 더 많으면 올바르게 동작할 수 없기 때문에, 우리는 비대칭적으로 width방향은 줄지 않도록 막았습니다."
   ]
  },
  {
   "cell_type": "markdown",
   "metadata": {},
   "source": [
    "## 2. Map to Sequence 부분 구성하기\n",
    "---\n",
    "\n",
    "Convolution Layer을 통과하고 나면<br>\n",
    "````\n",
    "Shape : (batch_size, feature_map_height, feature_map_width, num_features)\n",
    "````\n",
    "로 구성됩니다.\n",
    "\n",
    "현재 글자는 X축 방향으로 진행되고 있기 때문에, x축 방향이 time step 방향이 됩니다. RNN의 Input으로 넣기 위해 <br>\n",
    "````\n",
    "Shape : (batch_size, feature_map_width, feature_map_height * num_features)\n",
    "````\n",
    "으로\n",
    "바꾸어주어야 합니다."
   ]
  },
  {
   "cell_type": "code",
   "execution_count": 32,
   "metadata": {},
   "outputs": [
    {
     "data": {
      "text/plain": [
       "<tf.Tensor 'Reshape:0' shape=(?, ?, 512) dtype=float32>"
      ]
     },
     "execution_count": 32,
     "metadata": {},
     "output_type": "execute_result"
    }
   ],
   "source": [
    "transposed = tf.transpose(conv7,(0,2,1,3))\n",
    "\n",
    "shape = tf.shape(transposed) # Dynamic Shape\n",
    "_, _, h, c = transposed.get_shape().as_list() # Static Shape\n",
    "\n",
    "feature_sequence = tf.reshape(transposed, \n",
    "                              shape=[shape[0],shape[1],h*c])\n",
    "\n",
    "feature_sequence"
   ]
  },
  {
   "cell_type": "markdown",
   "metadata": {},
   "source": [
    "## 3. Stacked BLSTM 레이어 구성하기\n",
    "---\n",
    "\n",
    "총 2층의 Bidirectional LSTM Layer가 구성됩니다."
   ]
  },
  {
   "cell_type": "code",
   "execution_count": 44,
   "metadata": {},
   "outputs": [],
   "source": [
    "from tensorflow.keras.layers import Bidirectional, LSTM\n",
    "\n",
    "x = Bidirectional(LSTM(256, return_sequences=True))(feature_sequence)\n",
    "lstm_seqs = Bidirectional(LSTM(256, return_sequences=True))(x)"
   ]
  },
  {
   "cell_type": "markdown",
   "metadata": {},
   "source": [
    "## 4. CTC Loss 구성하기\n",
    "---\n",
    "\n",
    "CTC(Connectionist Temporal Classification)는 학습데이터에 클래스 라벨만 순서대로 존재하고 각 클래스의 위치는 어디에 있는지 모르는 Unsegmented 시퀀스 데이터의 학습을 위해서 사용하는 알고리즘입니다. <br>\n",
    "\n",
    "\n",
    "\n",
    "![Imgur](https://i.imgur.com/DDqq7j6.png)"
   ]
  },
  {
   "cell_type": "markdown",
   "metadata": {},
   "source": [
    "### (1) LSTM의 출력 길이\n",
    "\n",
    "모델을 Feed Forward하여 나온 출력 Sequence의 길이는 여기 영상에 있는 단어 수보다는 보통 훨씬 더 많습니다."
   ]
  },
  {
   "cell_type": "code",
   "execution_count": 127,
   "metadata": {},
   "outputs": [
    {
     "data": {
      "image/png": "[encoded data removed]",
      "text/plain": [
       "<Figure size 432x288 with 1 Axes>"
      ]
     },
     "metadata": {},
     "output_type": "display_data"
    }
   ],
   "source": [
    "image = cv2.imread(\"./cat_text_image.png\",0)\n",
    "plt.imshow(image,cmap='gray')\n",
    "plt.xticks([])\n",
    "plt.yticks([])\n",
    "plt.show()"
   ]
  },
  {
   "cell_type": "code",
   "execution_count": 131,
   "metadata": {},
   "outputs": [
    {
     "data": {
      "text/plain": [
       "<matplotlib.image.AxesImage at 0x1c4e34d198>"
      ]
     },
     "execution_count": 131,
     "metadata": {},
     "output_type": "execute_result"
    },
    {
     "data": {
      "image/png": "[encoded data removed]",
      "text/plain": [
       "<Figure size 432x288 with 1 Axes>"
      ]
     },
     "metadata": {},
     "output_type": "display_data"
    }
   ],
   "source": [
    "plt.imshow(outputs[0])"
   ]
  },
  {
   "cell_type": "code",
   "execution_count": 128,
   "metadata": {},
   "outputs": [
    {
     "name": "stdout",
     "output_type": "stream",
     "text": [
      "(1, 9, 512)\n"
     ]
    }
   ],
   "source": [
    "# reshape (height, width) -> (batch, height, width, 1)\n",
    "image = image[np.newaxis,...,np.newaxis]\n",
    "\n",
    "# get lstm sequence\n",
    "sess = K.get_session()\n",
    "graph = sess.graph\n",
    "outputs = sess.run(lstm_seqs,feed_dict={inputs:image})\n",
    "print(outputs.shape)"
   ]
  },
  {
   "cell_type": "markdown",
   "metadata": {},
   "source": [
    "### (2) 출력으로 가능한 후보군들\n",
    "\n",
    "![Imgur](https://i.imgur.com/TbrHxZr.png)\n",
    "\n",
    "CTC 알고리즘은 가능한 출력의 조합을 모두 구해, Loss를 계산하는 방식입니다. 수많은 조합이 있기 때문에, CTC 알고리즘은 Loss를 계산하기 위해, Dynamic Programming을 이용합니다."
   ]
  },
  {
   "cell_type": "markdown",
   "metadata": {},
   "source": [
    "### (3) CTC 알고리즘을 통한 Loss 계산하기\n",
    "\n",
    "![Imgur](https://i.imgur.com/4d2z1mY.png)\n",
    "\n",
    "위와 같은 방식으로 재귀적으로 그다음 Step의 Loss를 계산합니다. 다음 경로로 이어질 수 있는 케이스는 (1) 공백 (2) 현재와 동일한 글자 (3) 다음 등장할 글자로, 이 3가지 케이스에 대한 조합으로 경로가 구성됩니다. 텐서플로우와 케라스에서는 이를 계산하는 메소드를 제공해줍니다."
   ]
  },
  {
   "cell_type": "code",
   "execution_count": 132,
   "metadata": {},
   "outputs": [],
   "source": [
    "def ctc_loss(y_true, y_pred):\n",
    "    \"\"\"\n",
    "    Runs CTC Loss Algorithm on each batch element\n",
    "\n",
    "    :param y_true: tensor (samples, max_string_length) containing the truth labels.\n",
    "    :param y_pred: tensor (samples, time_steps, num_categories) containing the prediction, or output of the softmax.\n",
    "\n",
    "    * caution\n",
    "\n",
    "    input_length : tensor (samples, 1) containing the sequence length for each batch item in y_pred\n",
    "    label_length : tensor (samples, 1) containing the sequence length for each batch item in y_true\n",
    "\n",
    "    y_true는 [3,7,12,1,2,-1,-1,-1,-1] 와 같은 형태로 구성되어 있음. -1은 Blank를 의미\n",
    "    처음 등장하는 -1의 인덱스가 y_true의 sequnece length와 동일\n",
    "\n",
    "    y_pred의 총 width와 input_length는 동일\n",
    "\n",
    "    \"\"\"\n",
    "\n",
    "    # Get the Length of Prediction\n",
    "    shape = tf.shape(y_pred)\n",
    "    batch_size = shape[0]\n",
    "    max_length = shape[1, None, None]\n",
    "    input_length = tf.tile(max_length, [batch_size, 1])\n",
    "\n",
    "    # Get the Length of Input\n",
    "    label_length = tf.argmin(y_true, axis=-1)[:, None]\n",
    "\n",
    "    return K.ctc_batch_cost(y_true, y_pred,\n",
    "                            input_length, label_length)\n"
   ]
  },
  {
   "cell_type": "markdown",
   "metadata": {},
   "source": [
    "### (3) 결과 추론하기\n",
    "\n",
    "![Imgur](https://i.imgur.com/yeZbwtx.png)\n",
    "\n",
    "각 단계 별로 가장 높은 확률을 보인 출력값을 계산합니다. 여기서 핵심 문제는 각 단계에서 가장 높은 확률이 꼭 전체 시퀀스의 확률이 최대화되는 것을 보장하지 못한다는 것에 있습니다. 그렇다고, 모든 케이스를 다 살펴보기에는 매우 탐색 비용이 크게 듭니다. 그 가운데에서 **적당히** 살펴보는 방법이 있습니다. 이를 Beam Search라 부르고, 아래와 같이 동작합니다.\n",
    "\n",
    "![Imgur](https://i.imgur.com/n3TS5s1.png)\n",
    "\n",
    "케라스에서는 위의 과정을 대신 해주는 함수로, `K.ctc_decode`를 제공해줍니다."
   ]
  },
  {
   "cell_type": "code",
   "execution_count": 133,
   "metadata": {},
   "outputs": [],
   "source": [
    "class CTCDecoder(Layer):\n",
    "    \"\"\"\n",
    "    CRNN 중 Transcription Layer에 해당하는 Module Class\n",
    "\n",
    "    * beam_width :\n",
    "      클수록 탐색하는 Candidate Sequence가 많아져 정확도는 올라가나,\n",
    "      연산 비용도 함께 올라가기 때문에 ACC <-> Speed의 Trade-Off 관계에 있음\n",
    "\n",
    "    \"\"\"\n",
    "    def __init__(self, beam_width=100, **kwargs):\n",
    "        self.beam_width = beam_width\n",
    "        super().__init__(**kwargs)\n",
    "\n",
    "    def call(self, inputs, **kwargs):\n",
    "        shape = tf.shape(inputs)\n",
    "        batch_size = shape[0]\n",
    "        max_length = shape[1, None]\n",
    "        input_length = tf.tile(max_length, [batch_size])\n",
    "\n",
    "        prediction, scores = K.ctc_decode(inputs, input_length, beam_width=self.beam_width)\n",
    "        return [prediction, scores]\n",
    "\n",
    "    def get_config(self):\n",
    "        config = {\n",
    "            \"beam_width\": self.beam_width\n",
    "        }\n",
    "        base_config = super().get_config()\n",
    "        return dict(list(base_config.items()) + list(config.items()))"
   ]
  },
  {
   "cell_type": "markdown",
   "metadata": {},
   "source": [
    "## 5. 모델 전체 구성하기\n",
    "----\n",
    "* 기 구성된 Custom Layer로 구성해보도록 하겠습니다."
   ]
  },
  {
   "cell_type": "code",
   "execution_count": 134,
   "metadata": {},
   "outputs": [],
   "source": [
    "from models.layers import ConvFeatureExtractor, Map2Sequence \n",
    "from models.layers import BLSTMEncoder, CTCDecoder\n",
    "from models.losses import ctc_loss\n",
    "\n",
    "import tensorflow as tf\n",
    "from tensorflow.python.keras import backend as K\n",
    "from tensorflow.python.keras.models import Model\n",
    "from tensorflow.python.keras.layers import Input, Dense"
   ]
  },
  {
   "cell_type": "code",
   "execution_count": 135,
   "metadata": {},
   "outputs": [],
   "source": [
    "height = 28\n",
    "num_classes = 10\n",
    "n_hidden = 16\n",
    "n_lstm = 256\n",
    "K.clear_session()\n",
    "\n",
    "# For Gray Scale Image & Dynamic width\n",
    "inputs = Input(shape=(height, None, 1),name='image')\n",
    "\n",
    "# CRNN Model\n",
    "conv_maps = ConvFeatureExtractor(n_hidden=n_hidden,\n",
    "                                 name='feature_extractor')(inputs)\n",
    "feature_seqs = Map2Sequence(name='map_to_sequence')(conv_maps)\n",
    "lstm_seqs = BLSTMEncoder(n_units=n_lstm)(feature_seqs)\n",
    "\n",
    "# 우리의 출력 형태는 class 수에 Blank Label을 하나 더해 #classes + 1 만큼을 출력\n",
    "output_seqs = Dense(num_classes+1,\n",
    "                    activation='softmax',\n",
    "                    name='output_seqs')(lstm_seqs)"
   ]
  },
  {
   "cell_type": "code",
   "execution_count": 136,
   "metadata": {},
   "outputs": [],
   "source": [
    "from models.optimizer import AdamW\n",
    "\n",
    "# 모델 구성하기\n",
    "# (1) 학습 모델 구성하기\n",
    "y_true =  tf.placeholder(shape=(None,None), dtype=tf.int32)\n",
    "trainer = Model(inputs, output_seqs, name='trainer')\n",
    "trainer.compile('adam',\n",
    "                loss={\"output_seqs\":ctc_loss},\n",
    "                target_tensors=[y_true])"
   ]
  },
  {
   "cell_type": "code",
   "execution_count": 137,
   "metadata": {},
   "outputs": [],
   "source": [
    "# (2) 예측 모델 구성하기\n",
    "predictions = CTCDecoder(beam_width=100)(output_seqs)\n",
    "predictor = Model(inputs, predictions[0], name='predictor')"
   ]
  },
  {
   "cell_type": "markdown",
   "metadata": {},
   "source": [
    "## 6. 모델  학습시키기\n",
    "---\n",
    "\n"
   ]
  },
  {
   "cell_type": "code",
   "execution_count": null,
   "metadata": {},
   "outputs": [],
   "source": [
    "trainer.fit_generator(train_gen,\n",
    "                      epochs=10,\n",
    "                      validation_data=valid_gen)"
   ]
  },
  {
   "cell_type": "markdown",
   "metadata": {},
   "source": [
    "## 7. 모델 평가하기\n",
    "----\n"
   ]
  },
  {
   "cell_type": "code",
   "execution_count": null,
   "metadata": {},
   "outputs": [],
   "source": [
    "for image, true_label in zip(*test_gen[0]):\n",
    "    result = predictor.predict(image[np.newaxis])\n",
    "    predict_seq = \"\".join([str(char) for char in result.ravel()])\n",
    "    plt.title(f'label : {predict_seq}')\n",
    "    plt.imshow(image[:,:,0])\n",
    "    plt.show()"
   ]
  }
 ],
 "metadata": {
  "kernelspec": {
   "display_name": "Python 3",
   "language": "python",
   "name": "python3"
  },
  "language_info": {
   "codemirror_mode": {
    "name": "ipython",
    "version": 3
   },
   "file_extension": ".py",
   "mimetype": "text/x-python",
   "name": "python",
   "nbconvert_exporter": "python",
   "pygments_lexer": "ipython3",
   "version": "3.6.6"
  }
 },
 "nbformat": 4,
 "nbformat_minor": 2
}
