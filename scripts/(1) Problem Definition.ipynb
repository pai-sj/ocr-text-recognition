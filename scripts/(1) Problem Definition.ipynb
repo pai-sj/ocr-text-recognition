{
 "cells": [
  {
   "cell_type": "code",
   "execution_count": 17,
   "metadata": {},
   "outputs": [],
   "source": [
    "%matplotlib inline\n",
    "import pandas as pd\n",
    "import numpy as np\n",
    "\n",
    "import tensorflow.keras.backend as K\n",
    "\n",
    "import matplotlib.pyplot as plt"
   ]
  },
  {
   "cell_type": "markdown",
   "metadata": {},
   "source": [
    "# \\[ 문제 정의 \\]\n",
    "----\n",
    "----\n",
    "\n",
    "* 우리는 단어가 적혀진 이미지를 받아서, 철자의 순서에 따라 단어를 반환하는 모델입니다. \n",
    "* 최종 목표는 한글 단어가 적혀진 이미지를 받아, 한글 철자를 반환하도록 만드는 것입니다. "
   ]
  },
  {
   "cell_type": "markdown",
   "metadata": {},
   "source": [
    "## 1. MNIST를 활용하여, 문자 Sequence 만들기\n",
    "----\n",
    "\n",
    "* 우선 MNIST 데이터셋을 통해 Synthetic Dataset을 만들어서 데이터셋을 만들어 보도록 하겠습니다. Mnist로 가상의 데이터셋을 만든다면, 우리는 데이터의 부재 혹은 잘못된 라벨링으로 생겨나는 많은 문제들을 미연에 피할 수 있습니다."
   ]
  },
  {
   "cell_type": "markdown",
   "metadata": {},
   "source": [
    "### (1) Mnist 데이터셋 가져오기"
   ]
  },
  {
   "cell_type": "code",
   "execution_count": 41,
   "metadata": {},
   "outputs": [
    {
     "name": "stdout",
     "output_type": "stream",
     "text": [
      "Extracting /tmp/data/train-images-idx3-ubyte.gz\n",
      "Extracting /tmp/data/train-labels-idx1-ubyte.gz\n",
      "Extracting /tmp/data/t10k-images-idx3-ubyte.gz\n",
      "Extracting /tmp/data/t10k-labels-idx1-ubyte.gz\n"
     ]
    }
   ],
   "source": [
    "from tensorflow.examples.tutorials.mnist import input_data\n",
    "\n",
    "mnist = input_data.read_data_sets(\"/tmp/data/\")\n",
    "train_images, train_labels = mnist.train.images, mnist.train.labels\n",
    "train_images = train_images.reshape(-1,28,28)"
   ]
  },
  {
   "cell_type": "markdown",
   "metadata": {},
   "source": [
    "### (2) 가로로 일열로 붙이기"
   ]
  },
  {
   "cell_type": "code",
   "execution_count": 51,
   "metadata": {},
   "outputs": [
    {
     "name": "stderr",
     "output_type": "stream",
     "text": [
      "/Users/ksj/anaconda3/lib/python3.6/site-packages/matplotlib/text.py:1191: FutureWarning: elementwise comparison failed; returning scalar instead, but in the future will perform elementwise comparison\n",
      "  if s != self._text:\n"
     ]
    },
    {
     "data": {
      "image/png": "[encoded data removed]",
      "text/plain": [
       "<Figure size 432x288 with 1 Axes>"
      ]
     },
     "metadata": {},
     "output_type": "display_data"
    }
   ],
   "source": [
    "dummy_images = train_images[0:10]\n",
    "dummy_labels = train_labels[0:10]\n",
    "\n",
    "dummy_images = (dummy_images\n",
    "                .transpose(1,0,2) # shape : (높이, 배치, 너비)\n",
    "                .reshape(28,-1))  # shape : (높이, 배치 * 너비)\n",
    "\n",
    "plt.title(dummy_labels)\n",
    "plt.imshow(dummy_images)\n",
    "plt.show()"
   ]
  },
  {
   "cell_type": "markdown",
   "metadata": {},
   "source": [
    "일상 생활의 대부분 필기체 혹은 단어는 위와 같이 등간격으로 이루어져있지 않습니다. 그리고, 철자가 위아래로 반듯하게 쓰지도 않습니다. Synthetic Dataset에는 약간의 위치 노이즈가 필수적으로 들어가야 합니다.\n",
    "1. 글자 간 간격이 비균일하게 만들어야 함"
   ]
  },
  {
   "cell_type": "markdown",
   "metadata": {},
   "source": [
    "### (3) 철자의 위치를 무작위로 배치하는 메소드 구현하기"
   ]
  },
  {
   "cell_type": "code",
   "execution_count": 49,
   "metadata": {},
   "outputs": [],
   "source": [
    "def serialize_random(images, pad_range=(3,15)):\n",
    "    \"\"\"\n",
    "    복수의 이미지를 직렬로 붙이는 메소드 구현\n",
    "    \"\"\"\n",
    "    pad_height = images.shape[1]\n",
    "    pad_width = np.random.randint(*pad_range)\n",
    "    \n",
    "    # 첫 철자 앞의 공백\n",
    "    serialized_image = np.zeros([pad_height, pad_width])\n",
    "    for image in images:\n",
    "        serialized_image = place_random(image, serialized_image, pad_range)\n",
    "    serialized_image = np.clip(serialized_image, 0., 1.)\n",
    "    return serialized_image\n",
    "\n",
    "def place_random(image, serialized_image, pad_range):\n",
    "    \"\"\"\n",
    "    가운데 정렬된 이미지를 떼어서 재정렬함\n",
    "    \"\"\"\n",
    "    # set the threshold to 0.1 for reducing the noise\n",
    "    positions = np.argwhere(\n",
    "        image >= 0.1)\n",
    "    y_min, x_min = positions.min(axis=0)\n",
    "    y_max, x_max = positions.max(axis=0)\n",
    "    cropped = image[:, x_min:x_max]\n",
    "\n",
    "    pad_height = cropped.shape[0]\n",
    "    pad_width = np.random.randint(*pad_range)\n",
    "    pad = np.zeros([pad_height, pad_width])\n",
    "\n",
    "    serialized_image = np.concatenate(\n",
    "        [serialized_image, cropped, pad], axis=1)\n",
    "    return serialized_image\n"
   ]
  },
  {
   "cell_type": "code",
   "execution_count": 53,
   "metadata": {},
   "outputs": [
    {
     "name": "stderr",
     "output_type": "stream",
     "text": [
      "/Users/ksj/anaconda3/lib/python3.6/site-packages/matplotlib/text.py:1191: FutureWarning: elementwise comparison failed; returning scalar instead, but in the future will perform elementwise comparison\n",
      "  if s != self._text:\n"
     ]
    },
    {
     "data": {
      "image/png": "[encoded data removed]",
      "text/plain": [
       "<Figure size 432x288 with 1 Axes>"
      ]
     },
     "metadata": {},
     "output_type": "display_data"
    }
   ],
   "source": [
    "plt.title(train_labels[0:10])\n",
    "plt.imshow(serialize_random(train_images[0:10]))\n",
    "plt.show()"
   ]
  },
  {
   "cell_type": "markdown",
   "metadata": {},
   "source": [
    "위의 데이터 셋을 활용하여 모델을 1차적으로 학습시켜 보도록 하겠습니다."
   ]
  }
 ],
 "metadata": {
  "kernelspec": {
   "display_name": "Python 3",
   "language": "python",
   "name": "python3"
  },
  "language_info": {
   "codemirror_mode": {
    "name": "ipython",
    "version": 3
   },
   "file_extension": ".py",
   "mimetype": "text/x-python",
   "name": "python",
   "nbconvert_exporter": "python",
   "pygments_lexer": "ipython3",
   "version": "3.6.6"
  }
 },
 "nbformat": 4,
 "nbformat_minor": 2
}
